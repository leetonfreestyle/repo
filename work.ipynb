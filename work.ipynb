{
 "cells": [
  {
   "cell_type": "code",
   "execution_count": 4,
   "metadata": {
    "collapsed": false
   },
   "outputs": [],
   "source": [
    "from nltk.stem import RSLPStemmer"
   ]
  },
  {
   "cell_type": "code",
   "execution_count": 10,
   "metadata": {
    "collapsed": false
   },
   "outputs": [
    {
     "name": "stdout",
     "output_type": "stream",
     "text": [
      "[u'clariss', u'risc', 'com', 'giz', 'no', u'quadro-negr', 'a', u'pais', 'que', 'os', u'alun', u'dev', u'copi', '.', 'uma', u'cas', 'de', u'port', 'e', u'janel', ',', 'em', u'cim', u'dum', u'coxilh', '.']\n"
     ]
    }
   ],
   "source": [
    "st = RSLPStemmer()\n",
    "text = '''\n",
    "Clarissa risca com giz no quadro-negro a paisagem que os alunos\n",
    "devem copiar . Uma casinha de porta e janela , em cima duma\n",
    "coxilha .'''\n",
    "print [st.stem(token) for token in text.split()]"
   ]
  },
  {
   "cell_type": "code",
   "execution_count": null,
   "metadata": {
    "collapsed": false
   },
   "outputs": [],
   "source": []
  },
  {
   "cell_type": "code",
   "execution_count": null,
   "metadata": {
    "collapsed": true
   },
   "outputs": [],
   "source": []
  }
 ],
 "metadata": {
  "kernelspec": {
   "display_name": "Python 2",
   "language": "python",
   "name": "python2"
  },
  "language_info": {
   "codemirror_mode": {
    "name": "ipython",
    "version": 2
   },
   "file_extension": ".py",
   "mimetype": "text/x-python",
   "name": "python",
   "nbconvert_exporter": "python",
   "pygments_lexer": "ipython2",
   "version": "2.7.11"
  }
 },
 "nbformat": 4,
 "nbformat_minor": 0
}
